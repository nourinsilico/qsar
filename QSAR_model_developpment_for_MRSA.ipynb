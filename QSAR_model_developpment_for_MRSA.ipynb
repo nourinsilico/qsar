{
  "nbformat": 4,
  "nbformat_minor": 0,
  "metadata": {
    "colab": {
      "provenance": [],
      "include_colab_link": true
    },
    "kernelspec": {
      "name": "python3",
      "display_name": "Python 3"
    },
    "language_info": {
      "name": "python"
    }
  },
  "cells": [
    {
      "cell_type": "markdown",
      "metadata": {
        "id": "view-in-github",
        "colab_type": "text"
      },
      "source": [
        "<a href=\"https://colab.research.google.com/github/nourinsilico/qsar/blob/main/QSAR_model_developpment_for_MRSA.ipynb\" target=\"_parent\"><img src=\"https://colab.research.google.com/assets/colab-badge.svg\" alt=\"Open In Colab\"/></a>"
      ]
    },
    {
      "cell_type": "markdown",
      "source": [
        "**ChEMBL Data Retrieval and Preprocessing for Methicillin-resistant Staphylococcus aureus**"
      ],
      "metadata": {
        "id": "naLwAEYxXAFG"
      }
    },
    {
      "cell_type": "code",
      "execution_count": null,
      "metadata": {
        "id": "XY1toFsbN560"
      },
      "outputs": [],
      "source": [
        "! pip install chembl_webresource_client"
      ]
    },
    {
      "cell_type": "code",
      "source": [
        "!pip install rdkit"
      ],
      "metadata": {
        "id": "XVqKCw7-OKEU"
      },
      "execution_count": null,
      "outputs": []
    },
    {
      "cell_type": "code",
      "source": [
        "import pandas as pd\n",
        "import numpy as np\n",
        "from chembl_webresource_client.new_client import new_client\n",
        "from rdkit import Chem\n",
        "from rdkit.Chem import Descriptors, Lipinski\n",
        "import seaborn as sns\n",
        "sns.set(style='ticks')\n",
        "import matplotlib.pyplot as plt\n",
        "import seaborn as sns"
      ],
      "metadata": {
        "id": "ZZjTtuy6OPAu"
      },
      "execution_count": null,
      "outputs": []
    },
    {
      "cell_type": "code",
      "source": [
        "target = new_client.target\n",
        "target_query = target.search('methicillin-resistan staphylococcus aureus ')\n",
        "targets = pd.DataFrame.from_dict(target_query)\n",
        "targets"
      ],
      "metadata": {
        "id": "28RbYG9dOSVf"
      },
      "execution_count": null,
      "outputs": []
    },
    {
      "cell_type": "code",
      "source": [
        "selected_target = targets.target_chembl_id[0]\n",
        "selected_target"
      ],
      "metadata": {
        "id": "f9B17l3nOV2C"
      },
      "execution_count": null,
      "outputs": []
    },
    {
      "cell_type": "code",
      "source": [
        "activity = new_client.activity\n",
        "molecules = activity.filter(target_chembl_id=selected_target).filter(standard_type=\"IC50\")"
      ],
      "metadata": {
        "id": "VF6KRr94OYQB"
      },
      "execution_count": null,
      "outputs": []
    },
    {
      "cell_type": "code",
      "source": [
        "df = pd.DataFrame.from_dict(molecules)\n",
        "\n",
        "df"
      ],
      "metadata": {
        "id": "VRhq7tJAOaWx"
      },
      "execution_count": null,
      "outputs": []
    },
    {
      "cell_type": "code",
      "source": [
        "df.to_csv('Methicillin-resistant Staphylococcus aureus_bioactivity_data_raw.csv', index=False)"
      ],
      "metadata": {
        "id": "bSnsjHDo0Rg1"
      },
      "execution_count": null,
      "outputs": []
    },
    {
      "cell_type": "code",
      "source": [
        "df2 = df[df.standard_value.notna()]\n",
        "df2 = df2[df.canonical_smiles.notna()]\n",
        "df2"
      ],
      "metadata": {
        "id": "UzjTVzZc0T58"
      },
      "execution_count": null,
      "outputs": []
    },
    {
      "cell_type": "code",
      "source": [
        "len(df2.canonical_smiles.unique())"
      ],
      "metadata": {
        "id": "1qbEyA7q0Xh4"
      },
      "execution_count": null,
      "outputs": []
    },
    {
      "cell_type": "code",
      "source": [
        "df2_nr = df2.drop_duplicates(['canonical_smiles'])\n",
        "df2_nr"
      ],
      "metadata": {
        "id": "s-POg7Wx0aOD"
      },
      "execution_count": null,
      "outputs": []
    },
    {
      "cell_type": "code",
      "source": [
        "selection = ['molecule_chembl_id','canonical_smiles','standard_value']\n",
        "df3 = df2_nr[selection]\n",
        "df3"
      ],
      "metadata": {
        "id": "J0mc6fXS0egC"
      },
      "execution_count": null,
      "outputs": []
    },
    {
      "cell_type": "code",
      "source": [
        "df3.to_csv('Methicillin-resistant Staphylococcus aureus_bioactivity_data_preprocessed.csv', index=False)"
      ],
      "metadata": {
        "id": "fUJh_ntv0h5v"
      },
      "execution_count": null,
      "outputs": []
    },
    {
      "cell_type": "code",
      "source": [
        "df4 = pd.read_csv('Methicillin-resistant Staphylococcus aureus_bioactivity_data_preprocessed.csv')"
      ],
      "metadata": {
        "id": "Fmvi-Z_o0k1C"
      },
      "execution_count": null,
      "outputs": []
    },
    {
      "cell_type": "markdown",
      "source": [
        "## Bioactivity Classification"
      ],
      "metadata": {
        "id": "eNpabOvOXRhq"
      }
    },
    {
      "cell_type": "code",
      "source": [
        "bioactivity_threshold = []\n",
        "for i in df4.standard_value:\n",
        "  if float(i) >= 10000:\n",
        "    bioactivity_threshold.append(\"inactive\")\n",
        "  elif float(i) <= 1000:\n",
        "    bioactivity_threshold.append(\"active\")\n",
        "  else:\n",
        "    bioactivity_threshold.append(\"intermediate\")"
      ],
      "metadata": {
        "id": "TP3s2OtU0oIQ"
      },
      "execution_count": null,
      "outputs": []
    },
    {
      "cell_type": "code",
      "source": [
        "bioactivity_class = pd.Series(bioactivity_threshold, name='class')\n",
        "df5 = pd.concat([df4, bioactivity_class], axis=1)\n",
        "df5"
      ],
      "metadata": {
        "id": "Pe_wAcIC0rDV"
      },
      "execution_count": null,
      "outputs": []
    },
    {
      "cell_type": "code",
      "source": [
        "df5.to_csv('Methicillin-resistant Staphylococcus aureus_bioactivity_data_curated.csv', index=False)"
      ],
      "metadata": {
        "id": "L92yYh7R0vD6"
      },
      "execution_count": null,
      "outputs": []
    },
    {
      "cell_type": "code",
      "source": [
        "! zip Methicillin-resistant Staphylococcus aureus.zip *.csv"
      ],
      "metadata": {
        "id": "WbdYIHhS0w-I"
      },
      "execution_count": null,
      "outputs": []
    },
    {
      "cell_type": "markdown",
      "source": [
        "## lipinski rule and Statistical Comparisons of Bioactivity Classes"
      ],
      "metadata": {
        "id": "lgSwUCx0Xe4K"
      }
    },
    {
      "cell_type": "code",
      "source": [
        "! wget https://repo.anaconda.com/miniconda/Miniconda3-py37_4.8.2-Linux-x86_64.sh\n",
        "! chmod +x Miniconda3-py37_4.8.2-Linux-x86_64.sh\n",
        "! bash ./Miniconda3-py37_4.8.2-Linux-x86_64.sh -b -f -p /usr/local\n",
        "! conda install -c rdkit rdkit -y\n",
        "import sys\n",
        "sys.path.append('/usr/local/lib/python3.7/site-packages/')"
      ],
      "metadata": {
        "id": "lL2dNxWE1AhN"
      },
      "execution_count": null,
      "outputs": []
    },
    {
      "cell_type": "code",
      "source": [
        "! wget /content/Methicillin-resistant Staphylococcus aureus_bioactivity_data_curated.csv"
      ],
      "metadata": {
        "id": "0CD2iPmP1IEf"
      },
      "execution_count": null,
      "outputs": []
    },
    {
      "cell_type": "code",
      "source": [
        "import pandas as pd"
      ],
      "metadata": {
        "id": "3Rda87be1LCb"
      },
      "execution_count": null,
      "outputs": []
    },
    {
      "cell_type": "code",
      "source": [
        "df = pd.read_csv('/content/Methicillin-resistant Staphylococcus aureus_bioactivity_data_curated.csv')\n",
        "df"
      ],
      "metadata": {
        "id": "8kYpOqyz1NYn"
      },
      "execution_count": null,
      "outputs": []
    },
    {
      "cell_type": "code",
      "source": [
        "df_no_smiles = df.drop(columns='canonical_smiles')"
      ],
      "metadata": {
        "id": "ayYO-8281Qie"
      },
      "execution_count": null,
      "outputs": []
    },
    {
      "cell_type": "code",
      "source": [
        "smiles = []\n",
        "\n",
        "for i in df.canonical_smiles.tolist():\n",
        "  cpd = str(i).split('.')\n",
        "  cpd_longest = max(cpd, key = len)\n",
        "  smiles.append(cpd_longest)\n",
        "\n",
        "smiles = pd.Series(smiles, name = 'canonical_smiles')"
      ],
      "metadata": {
        "id": "IkFmHmZ_1UMy"
      },
      "execution_count": null,
      "outputs": []
    },
    {
      "cell_type": "code",
      "source": [
        "df_clean_smiles = pd.concat([df_no_smiles,smiles], axis=1)\n",
        "df_clean_smiles"
      ],
      "metadata": {
        "id": "cIMV2Rqd1WDf"
      },
      "execution_count": null,
      "outputs": []
    },
    {
      "cell_type": "code",
      "source": [
        "! pip install numpy"
      ],
      "metadata": {
        "id": "kHdfrtgi1aIE"
      },
      "execution_count": null,
      "outputs": []
    },
    {
      "cell_type": "code",
      "source": [
        "! pip install rdkit\n",
        "from rdkit import Chem\n",
        "from rdkit.Chem import Descriptors, Lipinski"
      ],
      "metadata": {
        "id": "msM4qDKX1cZs"
      },
      "execution_count": null,
      "outputs": []
    },
    {
      "cell_type": "code",
      "source": [
        "import numpy as np"
      ],
      "metadata": {
        "id": "1Mz4mErY1fuj"
      },
      "execution_count": null,
      "outputs": []
    },
    {
      "cell_type": "code",
      "source": [
        "!pip install rdkit"
      ],
      "metadata": {
        "id": "rr4g_I7W1hwR"
      },
      "execution_count": null,
      "outputs": []
    },
    {
      "cell_type": "code",
      "source": [
        "from rdkit import Chem\n",
        "from rdkit.Chem import Descriptors, Lipinski"
      ],
      "metadata": {
        "id": "4eJ2lXG_1lCS"
      },
      "execution_count": null,
      "outputs": []
    },
    {
      "cell_type": "code",
      "source": [
        "def lipinski(smiles, verbose=False):\n",
        "\n",
        "    moldata= []\n",
        "    for elem in smiles:\n",
        "        mol=Chem.MolFromSmiles(elem)\n",
        "        moldata.append(mol)\n",
        "\n",
        "    baseData= np.arange(1,1)\n",
        "    i=0\n",
        "    for mol in moldata:\n",
        "\n",
        "        desc_MolWt = Descriptors.MolWt(mol)\n",
        "        desc_MolLogP = Descriptors.MolLogP(mol)\n",
        "        desc_NumHDonors = Lipinski.NumHDonors(mol)\n",
        "        desc_NumHAcceptors = Lipinski.NumHAcceptors(mol)\n",
        "\n",
        "        row = np.array([desc_MolWt,\n",
        "                        desc_MolLogP,\n",
        "                        desc_NumHDonors,\n",
        "                        desc_NumHAcceptors])\n",
        "\n",
        "        if(i==0):\n",
        "            baseData=row\n",
        "        else:\n",
        "            baseData=np.vstack([baseData, row])\n",
        "        i=i+1\n",
        "\n",
        "    columnNames=[\"MW\",\"LogP\",\"NumHDonors\",\"NumHAcceptors\"]\n",
        "    descriptors = pd.DataFrame(data=baseData,columns=columnNames)\n",
        "\n",
        "    return descriptors"
      ],
      "metadata": {
        "id": "2VF7n8lN1qND"
      },
      "execution_count": null,
      "outputs": []
    },
    {
      "cell_type": "code",
      "source": [
        "df_lipinski = lipinski(df_clean_smiles.canonical_smiles)\n",
        "df_lipinski"
      ],
      "metadata": {
        "id": "2bX53KqW1ufX"
      },
      "execution_count": null,
      "outputs": []
    },
    {
      "cell_type": "code",
      "source": [
        "df_lipinski"
      ],
      "metadata": {
        "id": "EbJXKsqN10Nz"
      },
      "execution_count": null,
      "outputs": []
    },
    {
      "cell_type": "code",
      "source": [
        "df"
      ],
      "metadata": {
        "id": "tpidSebV13Va"
      },
      "execution_count": null,
      "outputs": []
    },
    {
      "cell_type": "code",
      "source": [
        "df_combined = pd.concat([df,df_lipinski], axis=1)"
      ],
      "metadata": {
        "id": "NtIhOF9b16aN"
      },
      "execution_count": null,
      "outputs": []
    },
    {
      "cell_type": "code",
      "source": [
        "df_combined"
      ],
      "metadata": {
        "id": "FiFPuu0119Mi"
      },
      "execution_count": null,
      "outputs": []
    },
    {
      "cell_type": "code",
      "source": [
        "import numpy as np\n",
        "\n",
        "def pIC50(input):\n",
        "    pIC50 = []\n",
        "\n",
        "    for i in input['standard_value_norm']:\n",
        "        molar = i*(10**-9) # Converts nM to M\n",
        "        pIC50.append(-np.log10(molar))\n",
        "\n",
        "    input['pIC50'] = pIC50\n",
        "    x = input.drop('standard_value_norm', 1)\n",
        "\n",
        "    return x"
      ],
      "metadata": {
        "id": "dn5247JM2Af0"
      },
      "execution_count": null,
      "outputs": []
    },
    {
      "cell_type": "code",
      "source": [
        "df_combined.standard_value.describe()"
      ],
      "metadata": {
        "id": "WgDmbzN82Drs"
      },
      "execution_count": null,
      "outputs": []
    },
    {
      "cell_type": "code",
      "source": [
        "-np.log10( (10**-9)* 100000000 )"
      ],
      "metadata": {
        "id": "P8-9d0BV2G2c"
      },
      "execution_count": null,
      "outputs": []
    },
    {
      "cell_type": "code",
      "source": [
        "-np.log10( (10**-9)* 10000000000 )"
      ],
      "metadata": {
        "id": "nXFpTsUT2I-v"
      },
      "execution_count": null,
      "outputs": []
    },
    {
      "cell_type": "code",
      "source": [
        "def norm_value(input):\n",
        "    norm = []\n",
        "\n",
        "    for i in input['standard_value']:\n",
        "        if i > 100000000:\n",
        "          i = 100000000\n",
        "        norm.append(i)\n",
        "\n",
        "    input['standard_value_norm'] = norm\n",
        "    x = input.drop('standard_value', 1)\n",
        "\n",
        "    return x"
      ],
      "metadata": {
        "id": "VfjOoOuB2LSK"
      },
      "execution_count": null,
      "outputs": []
    },
    {
      "cell_type": "code",
      "source": [
        "df_norm.standard_value_norm.describe()"
      ],
      "metadata": {
        "id": "EauaFuOF2PGF"
      },
      "execution_count": null,
      "outputs": []
    },
    {
      "cell_type": "code",
      "source": [
        "df_final = pIC50(df_norm)\n",
        "df_final"
      ],
      "metadata": {
        "id": "kbIa9BL42RCo"
      },
      "execution_count": null,
      "outputs": []
    },
    {
      "cell_type": "code",
      "source": [
        "df_final.pIC50.describe()"
      ],
      "metadata": {
        "id": "Ef4m3CFB2VQK"
      },
      "execution_count": null,
      "outputs": []
    },
    {
      "cell_type": "code",
      "source": [
        "df_final.to_csv('Methicillin-resistant Staphylococcus aureus_bioactivity_data_3class_pIC50.csv')"
      ],
      "metadata": {
        "id": "-WStih272Xqb"
      },
      "execution_count": null,
      "outputs": []
    },
    {
      "cell_type": "code",
      "source": [
        "df_2class = df_final[df_final['class'] != 'intermediate']\n",
        "df_2class"
      ],
      "metadata": {
        "id": "7IT9AJfn2a78"
      },
      "execution_count": null,
      "outputs": []
    },
    {
      "cell_type": "code",
      "source": [
        "df_2class.to_csv('Methicillin-resistant Staphylococcus aureus_bioactivity_data_2class_pIC50.csv')"
      ],
      "metadata": {
        "id": "nj_zQOBx2fvF"
      },
      "execution_count": null,
      "outputs": []
    },
    {
      "cell_type": "code",
      "source": [
        "import seaborn as sns\n",
        "sns.set(style='ticks')\n",
        "import matplotlib.pyplot as plt"
      ],
      "metadata": {
        "id": "4dJZ35FO2kxj"
      },
      "execution_count": null,
      "outputs": []
    },
    {
      "cell_type": "code",
      "source": [
        "plt.figure(figsize=(5.5, 5.5))\n",
        "\n",
        "sns.countplot(x='class', data=df_2class, edgecolor='black')\n",
        "\n",
        "plt.xlabel('Bioactivity class', fontsize=14, fontweight='bold')\n",
        "plt.ylabel('Frequency', fontsize=14, fontweight='bold')\n",
        "\n",
        "plt.savefig('plot_bioactivity_class.pdf')"
      ],
      "metadata": {
        "id": "XLedNCt52mxM"
      },
      "execution_count": null,
      "outputs": []
    },
    {
      "cell_type": "code",
      "source": [
        "plt.figure(figsize=(5.5, 5.5))\n",
        "\n",
        "sns.boxplot(x = 'class', y = 'pIC50', data = df_2class)\n",
        "\n",
        "plt.xlabel('Bioactivity class', fontsize=14, fontweight='bold')\n",
        "plt.ylabel('pIC50 value', fontsize=14, fontweight='bold')\n",
        "\n",
        "plt.savefig('plot_ic50.pdf')"
      ],
      "metadata": {
        "id": "V8Gi2KqF2tWg"
      },
      "execution_count": null,
      "outputs": []
    },
    {
      "cell_type": "code",
      "source": [
        "def mannwhitney(descriptor, verbose=False):\n",
        "\n",
        "  from numpy.random import seed\n",
        "  from numpy.random import randn\n",
        "  from scipy.stats import mannwhitneyu\n",
        "\n",
        "# seed the random number generator\n",
        "  seed(1)\n",
        "\n",
        "# actives and inactives\n",
        "  selection = [descriptor, 'class']\n",
        "  df = df_2class[selection]\n",
        "  active = df[df['class'] == 'active']\n",
        "  active = active[descriptor]\n",
        "\n",
        "  selection = [descriptor, 'class']\n",
        "  df = df_2class[selection]\n",
        "  inactive = df[df['class'] == 'inactive']\n",
        "  inactive = inactive[descriptor]\n",
        "\n",
        "# compare samples\n",
        "  stat, p = mannwhitneyu(active, inactive)\n",
        "  #print('Statistics=%.3f, p=%.3f' % (stat, p))\n",
        "\n",
        "# interpret\n",
        "  alpha = 0.05\n",
        "  if p > alpha:\n",
        "    interpretation = 'Same distribution (fail to reject H0)'\n",
        "  else:\n",
        "    interpretation = 'Different distribution (reject H0)'\n",
        "\n",
        "  results = pd.DataFrame({'Descriptor':descriptor,\n",
        "                          'Statistics':stat,\n",
        "                          'p':p,\n",
        "                          'alpha':alpha,\n",
        "                          'Interpretation':interpretation}, index=[0])\n",
        "  filename = 'mannwhitneyu_' + descriptor + '.csv'\n",
        "  results.to_csv(filename)\n",
        "\n",
        "  return results"
      ],
      "metadata": {
        "id": "gGt4DTBI2zep"
      },
      "execution_count": null,
      "outputs": []
    },
    {
      "cell_type": "code",
      "source": [
        "mannwhitney('pIC50')"
      ],
      "metadata": {
        "id": "Cd04DeaK23YL"
      },
      "execution_count": null,
      "outputs": []
    },
    {
      "cell_type": "code",
      "source": [
        "plt.figure(figsize=(5.5, 5.5))\n",
        "\n",
        "sns.boxplot(x = 'class', y = 'MW', data = df_2class)\n",
        "\n",
        "plt.xlabel('Bioactivity class', fontsize=14, fontweight='bold')\n",
        "plt.ylabel('MW', fontsize=14, fontweight='bold')\n",
        "\n",
        "plt.savefig('plot_MW.pdf')"
      ],
      "metadata": {
        "id": "OoLreLEL25xB"
      },
      "execution_count": null,
      "outputs": []
    },
    {
      "cell_type": "code",
      "source": [
        "mannwhitney('MW')"
      ],
      "metadata": {
        "id": "A-JHMySL296U"
      },
      "execution_count": null,
      "outputs": []
    },
    {
      "cell_type": "code",
      "source": [
        "plt.figure(figsize=(5.5, 5.5))\n",
        "\n",
        "sns.boxplot(x = 'class', y = 'LogP', data = df_2class)\n",
        "\n",
        "plt.xlabel('Bioactivity class', fontsize=14, fontweight='bold')\n",
        "plt.ylabel('LogP', fontsize=14, fontweight='bold')\n",
        "\n",
        "plt.savefig('plot_LogP.pdf')"
      ],
      "metadata": {
        "id": "qX1yudGo3ATG"
      },
      "execution_count": null,
      "outputs": []
    },
    {
      "cell_type": "code",
      "source": [
        "mannwhitney('LogP')"
      ],
      "metadata": {
        "id": "8lNup0Sd3DsR"
      },
      "execution_count": null,
      "outputs": []
    },
    {
      "cell_type": "code",
      "source": [
        "plt.figure(figsize=(5.5, 5.5))\n",
        "\n",
        "sns.boxplot(x = 'class', y = 'NumHDonors', data = df_2class)\n",
        "\n",
        "plt.xlabel('Bioactivity class', fontsize=14, fontweight='bold')\n",
        "plt.ylabel('NumHDonors', fontsize=14, fontweight='bold')\n",
        "\n",
        "plt.savefig('plot_NumHDonors.pdf')"
      ],
      "metadata": {
        "id": "ZpwYHfqb3GGN"
      },
      "execution_count": null,
      "outputs": []
    },
    {
      "cell_type": "code",
      "source": [
        "mannwhitney('NumHDonors')"
      ],
      "metadata": {
        "id": "iZ8XSpuT3KKh"
      },
      "execution_count": null,
      "outputs": []
    },
    {
      "cell_type": "code",
      "source": [
        "plt.figure(figsize=(5.5, 5.5))\n",
        "\n",
        "sns.boxplot(x = 'class', y = 'NumHAcceptors', data = df_2class)\n",
        "\n",
        "plt.xlabel('Bioactivity class', fontsize=14, fontweight='bold')\n",
        "plt.ylabel('NumHAcceptors', fontsize=14, fontweight='bold')\n",
        "\n",
        "plt.savefig('plot_NumHAcceptors.pdf')"
      ],
      "metadata": {
        "id": "NPeuNQ4B3MYP"
      },
      "execution_count": null,
      "outputs": []
    },
    {
      "cell_type": "code",
      "source": [
        "mannwhitney('NumHAcceptors')"
      ],
      "metadata": {
        "id": "qAtY_P-_3QSs"
      },
      "execution_count": null,
      "outputs": []
    },
    {
      "cell_type": "markdown",
      "source": [
        "## scaffold"
      ],
      "metadata": {
        "id": "9W66Ex-4YOSw"
      }
    },
    {
      "cell_type": "code",
      "source": [
        "# Install necessary packages\n",
        "!pip install pandas\n",
        "!pip install rdkit-pypi\n",
        "\n",
        "\n",
        "# Import required libraries\n",
        "import pandas as pd\n",
        "from rdkit import Chem\n",
        "from rdkit.Chem import Draw\n",
        "from rdkit.Chem.Scaffolds import MurckoScaffold\n",
        "\n",
        "from google.colab import files\n",
        "import matplotlib.pyplot as plt\n",
        "import os\n",
        "import zipfile\n",
        "\n",
        "# Upload the CSV file\n",
        "uploaded = files.upload()\n",
        "\n",
        "# Read the CSV file into a pandas DataFrame\n",
        "filename = list(uploaded.keys())[0]  # Get the uploaded file name\n",
        "df = pd.read_csv(filename)\n",
        "\n",
        "# Assuming the ChEMBL IDs are in a column named 'molecule_chembl_id'\n",
        "# Adjust the column name if your CSV is different\n",
        "if 'molecule_chembl_id' in df.columns:\n",
        "    chembl_ids = df['molecule_chembl_id'].dropna().tolist()\n",
        "    print(f\"Extracted {len(chembl_ids)} ChEMBL IDs from the CSV.\")\n",
        "else:\n",
        "    print(\"No column named 'molecule_chembl_id' found in the CSV.\")\n",
        "    chembl_ids = []\n",
        "\n",
        "# Function to fetch SMILES from ChEMBL API\n",
        "def get_smiles_from_chembl(chembl_id):\n",
        "    molecule = new_client.molecule\n",
        "    try:\n",
        "        res = molecule.get(chembl_id)\n",
        "        if res and 'molecule_structures' in res and res['molecule_structures']:\n",
        "            return res['molecule_structures']['canonical_smiles']\n",
        "        else:\n",
        "            print(f\"Failed to fetch data for {chembl_id}: No molecule structure found\")\n",
        "            return None\n",
        "    except Exception as e:\n",
        "        print(f\"An error occurred while fetching data for {chembl_id}: {e}\")\n",
        "        return None\n",
        "\n",
        "# Prepare to store images for original molecules and their scaffolds\n",
        "original_images = []\n",
        "scaffold_images = []\n",
        "\n",
        "# Create a list to store the SMILES strings\n",
        "smiles_list = []\n",
        "\n",
        "# Process each ChEMBL ID\n",
        "for chembl_id in chembl_ids:\n",
        "    print(f\"\\nProcessing {chembl_id}...\")\n",
        "\n",
        "    # Fetch SMILES for the compound\n",
        "    smiles = get_smiles_from_chembl(chembl_id)\n",
        "\n",
        "    # If SMILES was successfully fetched\n",
        "    if smiles:\n",
        "        # Convert the SMILES to an RDKit molecule object\n",
        "        mol = Chem.MolFromSmiles(smiles)\n",
        "        if mol:\n",
        "            print(f\"SMILES for {chembl_id}: {smiles}\")\n",
        "\n",
        "            # Draw and store the original molecule\n",
        "            original_mol_img = Draw.MolToImage(mol)\n",
        "            original_images.append((chembl_id, original_mol_img))\n",
        "\n",
        "            # Generate the Murcko scaffold\n",
        "            scaffold = MurckoScaffold.GetScaffoldForMol(mol)\n",
        "\n",
        "            # Draw and store the scaffold structure\n",
        "            scaffold_img = Draw.MolToImage(scaffold)\n",
        "            scaffold_images.append((chembl_id, scaffold_img))\n",
        "\n",
        "            # Add the smiles to the smiles_list\n",
        "            smiles_list.append(smiles)\n",
        "        else:\n",
        "            print(f\"Invalid SMILES for {chembl_id}.\")\n",
        "    else:\n",
        "        print(f\"Could not retrieve SMILES for {chembl_id}. Please check if the ID is valid.\")\n",
        "\n",
        "# Create a directory to save the scaffold images\n",
        "os.makedirs('scaffolds', exist_ok=True)\n",
        "\n",
        "# Generate Murcko scaffolds and save them as images\n",
        "for idx, smiles in enumerate(smiles_list):\n",
        "    mol = Chem.MolFromSmiles(smiles)\n",
        "    scaffold = MurckoScaffold.GetScaffoldForMol(mol)\n",
        "    img = Draw.MolToImage(scaffold)\n",
        "    img.save(f\"scaffolds/scaffold_{idx+1}_{chembl_ids[idx]}.png\")\n",
        "# Zip the scaffold images\n",
        "zip_filename = \"scaffold_\"\n"
      ],
      "metadata": {
        "id": "gKX1YMpZ3dcQ"
      },
      "execution_count": null,
      "outputs": []
    },
    {
      "cell_type": "code",
      "source": [
        "# Generate Murcko scaffolds and identify unique ones\n",
        "scaffolds = []\n",
        "unique_scaffolds = set()\n",
        "for idx, smiles in enumerate(smiles_list):\n",
        "    mol = Chem.MolFromSmiles(smiles)\n",
        "    scaffold = MurckoScaffold.GetScaffoldForMol(mol)\n",
        "    scaffolds.append(scaffold)\n",
        "    unique_scaffolds.add(Chem.MolToSmiles(scaffold))\n",
        "\n",
        "# Count the number of unique scaffolds\n",
        "num_unique_scaffolds = len(unique_scaffolds)\n",
        "\n",
        "print(f\"Number of unique scaffolds: {num_unique_scaffolds}\")"
      ],
      "metadata": {
        "id": "rsBoqy0k3jUJ"
      },
      "execution_count": null,
      "outputs": []
    },
    {
      "cell_type": "markdown",
      "source": [
        "**PCA**"
      ],
      "metadata": {
        "id": "fGGBxydvT14C"
      }
    },
    {
      "cell_type": "code",
      "source": [
        "import pandas as pd\n",
        "from rdkit import Chem\n",
        "from rdkit.Chem import AllChem\n",
        "from sklearn.preprocessing import StandardScaler\n",
        "from sklearn.decomposition import PCA\n",
        "import matplotlib.pyplot as plt\n",
        "import numpy as np\n",
        "\n",
        "# 1. Load your scaffold data:\n",
        "# Assuming you have a CSV file named 'scaffold_examples.csv'\n",
        "# with a column named 'Scaffold SMILES'\n",
        "scaffold_df = pd.read_csv('S2.csv')\n",
        "smiles_list = scaffold_df['Scaffold SMILES'].tolist()\n",
        "\n",
        "# 2. Generate fingerprints for each scaffold:\n",
        "fingerprints = []\n",
        "for smiles in smiles_list:\n",
        "    # Check if the SMILES string is valid and not NaN\n",
        "    if isinstance(smiles, str) and smiles != 'nan' and smiles != '':  # Check if smiles is a valid string and not 'nan'\n",
        "        mol = Chem.MolFromSmiles(smiles)\n",
        "        if mol: # Check if mol is not None\n",
        "            fp = AllChem.GetMorganFingerprintAsBitVect(mol, 2, nBits=2048)\n",
        "            fingerprints.append(fp)\n",
        "        else:\n",
        "            print(f\"Invalid SMILES: {smiles}. Skipping.\") # Print invalid SMILES for debugging\n",
        "    else:\n",
        "        print(f\"Invalid or missing SMILES: {smiles}. Skipping.\") # Print invalid or missing SMILES for debugging\n",
        "\n",
        "# 3. Convert fingerprints to a NumPy array:\n",
        "X = np.array(fingerprints, dtype=np.int32)\n",
        "\n",
        "# 4. Standardize the data:\n",
        "scaler = StandardScaler()\n",
        "X_scaled = scaler.fit_transform(X)\n",
        "\n",
        "# 5. Perform PCA:\n",
        "pca = PCA(n_components=2)  # Choose the number of components\n",
        "principalComponents = pca.fit_transform(X_scaled)\n",
        "\n",
        "# 6. Create a DataFrame for the principal components:\n",
        "principalDf = pd.DataFrame(data=principalComponents,\n",
        "                           columns=['principal component 1', 'principal component 2'])\n",
        "\n",
        "# 7. Visualize the results:\n",
        "plt.figure(figsize=(8, 6))\n",
        "plt.scatter(principalDf['principal component 1'],\n",
        "            principalDf['principal component 2'], alpha=0.5)\n",
        "plt.xlabel('Principal Component 1')\n",
        "plt.ylabel('Principal Component 2')\n",
        "plt.title('PCA of Scaffolds')\n",
        "plt.show()"
      ],
      "metadata": {
        "id": "GgcsCeCJT3fO"
      },
      "execution_count": null,
      "outputs": []
    },
    {
      "cell_type": "markdown",
      "source": [
        "## Distribution of pIC50 Values"
      ],
      "metadata": {
        "id": "cgmgxp7VYYgj"
      }
    },
    {
      "cell_type": "code",
      "source": [
        "filename = \"/content/S2 Methicillin resistant Staphylococcus aureus bioactivity data_2class_pIC50.csv\"\n",
        "df = pd.read_csv(filename,sep=\" \",names=[\"SMILES\",\"Name\",\"pIC50\"])"
      ],
      "metadata": {
        "id": "AoMMqHku3wYP"
      },
      "execution_count": null,
      "outputs": []
    },
    {
      "cell_type": "code",
      "source": [
        "!pip install pandas matplotlib\n",
        "import pandas as pd\n",
        "import matplotlib.pyplot as plt\n",
        "\n",
        "# Load the dataset\n",
        "df = pd.read_csv('/content/S2 Methicillin resistant Staphylococcus aureus bioactivity data_3class_pIC50.csv')\n",
        "\n",
        "# Analyze the distribution of pIC50 values\n",
        "plt.hist(df['pIC50'].dropna(), bins=20)\n",
        "plt.xlabel('pIC50')\n",
        "plt.ylabel('Frequency')\n",
        "plt.title('Distribution of pIC50 Values')\n",
        "plt.show()\n",
        "\n",
        "# Calculate basic statistics\n",
        "print(df['pIC50'].describe())"
      ],
      "metadata": {
        "id": "eLE1vznV30DP"
      },
      "execution_count": null,
      "outputs": []
    },
    {
      "cell_type": "markdown",
      "source": [
        "## molecular descriptors"
      ],
      "metadata": {
        "id": "QZVUYIGCYdmM"
      }
    },
    {
      "cell_type": "code",
      "source": [
        "!pip install rdkit pandas datamol molfeat numpy scikit-learn yellowbrick"
      ],
      "metadata": {
        "id": "EeAf8--K34W2"
      },
      "execution_count": null,
      "outputs": []
    },
    {
      "cell_type": "code",
      "source": [
        "import pandas as pd\n",
        "import datamol as dm\n",
        "from molfeat.calc import FPCalculator\n",
        "from molfeat.trans import MoleculeTransformer\n",
        "import numpy as np\n",
        "from sklearn.model_selection import train_test_split\n",
        "from yellowbrick.regressor import prediction_error, residuals_plot"
      ],
      "metadata": {
        "id": "5pUbW5jC4ALn"
      },
      "execution_count": null,
      "outputs": []
    },
    {
      "cell_type": "code",
      "source": [
        "calc = FPCalculator(\"maccs\")\n",
        "calc = FPCalculator(\"avalon\")\n",
        "calc = FPCalculator(\"ecfp\")\n",
        "calc = FPCalculator(\"topological\")\n",
        "calc = FPCalculator(\"atompair\")\n",
        "calc = FPCalculator(\"rdkit\")\n",
        "calc = FPCalculator(\"pattern\")\n",
        "calc = FPCalculator(\"layered\")\n",
        "calc = FPCalculator(\"map4\")\n",
        "calc = FPCalculator(\"erg\")\n"
      ],
      "metadata": {
        "id": "OX3vHcfa4EwZ"
      },
      "execution_count": null,
      "outputs": []
    },
    {
      "cell_type": "code",
      "source": [
        "trans = MoleculeTransformer(calc)"
      ],
      "metadata": {
        "id": "Dc2KWhI04IHF"
      },
      "execution_count": null,
      "outputs": []
    },
    {
      "cell_type": "code",
      "source": [
        "df = pd.read_csv('/content/S2 Methicillin resistant Staphylococcus aureus bioactivity data_2class_pIC50.csv')"
      ],
      "metadata": {
        "id": "1MZJttMQ4Kme"
      },
      "execution_count": null,
      "outputs": []
    },
    {
      "cell_type": "code",
      "source": [
        "%%time\n",
        "with dm.without_rdkit_log():\n",
        "    df['fp'] = trans.transform(df.canonical_smiles.values)"
      ],
      "metadata": {
        "id": "EKa_kn7G4Qxh"
      },
      "execution_count": null,
      "outputs": []
    },
    {
      "cell_type": "markdown",
      "source": [
        "## train_test_split"
      ],
      "metadata": {
        "id": "VHSAB74zYp62"
      }
    },
    {
      "cell_type": "code",
      "source": [
        "train, test = train_test_split(df)"
      ],
      "metadata": {
        "id": "GxycTqoU4TVZ"
      },
      "execution_count": null,
      "outputs": []
    },
    {
      "cell_type": "code",
      "source": [
        "from sklearn.model_selection import train_test_split\n",
        "train_size = 0.8\n",
        "train, test = train_test_split(df, train_size=train_size, random_state=42)"
      ],
      "metadata": {
        "id": "P3o4MpSV4V10"
      },
      "execution_count": null,
      "outputs": []
    },
    {
      "cell_type": "markdown",
      "source": [
        "## model"
      ],
      "metadata": {
        "id": "lT_k0_hzYtSU"
      }
    },
    {
      "cell_type": "code",
      "source": [
        "from lightgbm import LGBMRegressor\n",
        "from sklearn.ensemble import RandomForestRegressor\n",
        "from xgboost import XGBRegressor\n",
        "from sklearn.svm import SVR\n",
        "from sklearn.linear_model import BayesianRidge\n",
        "from sklearn.ensemble import GradientBoostingRegressor\n",
        "from sklearn.ensemble import HistGradientBoostingRegressor"
      ],
      "metadata": {
        "id": "bDa-MmdU4Z7J"
      },
      "execution_count": null,
      "outputs": []
    },
    {
      "cell_type": "code",
      "source": [
        "model = XGBRegressor()"
      ],
      "metadata": {
        "id": "AdIGQzk24c8g"
      },
      "execution_count": null,
      "outputs": []
    },
    {
      "cell_type": "markdown",
      "source": [
        "## internal and external validation"
      ],
      "metadata": {
        "id": "DXE2gCU4YxJF"
      }
    },
    {
      "cell_type": "markdown",
      "source": [
        "## R2"
      ],
      "metadata": {
        "id": "7wXhfXRLMv5v"
      }
    },
    {
      "cell_type": "code",
      "source": [
        "%%time\n",
        "visualizer = prediction_error(model,np.stack(train.fp),train.pIC50)"
      ],
      "metadata": {
        "id": "pIuS2L9q4ga3"
      },
      "execution_count": null,
      "outputs": []
    },
    {
      "cell_type": "code",
      "source": [
        "from sklearn.metrics import r2_score"
      ],
      "metadata": {
        "id": "SDRn-23u4k6d"
      },
      "execution_count": null,
      "outputs": []
    },
    {
      "cell_type": "code",
      "source": [
        "y_test = test.pIC50"
      ],
      "metadata": {
        "id": "eXtygN7G4m7i"
      },
      "execution_count": null,
      "outputs": []
    },
    {
      "cell_type": "code",
      "source": [
        "# Fit the model to your training data\n",
        "model.fit(np.stack(train.fp), train.pIC50)\n",
        "\n",
        "# Now you can predict on your test data\n",
        "y_pred = model.predict(np.stack(test.fp))"
      ],
      "metadata": {
        "id": "a7ECIpDT4pHQ"
      },
      "execution_count": null,
      "outputs": []
    },
    {
      "cell_type": "code",
      "source": [
        "y_pred = model.predict(np.stack(test.fp))"
      ],
      "metadata": {
        "id": "nI1E_Xc54sjh"
      },
      "execution_count": null,
      "outputs": []
    },
    {
      "cell_type": "markdown",
      "source": [
        "## Q2"
      ],
      "metadata": {
        "id": "dxpSFjEwM07Q"
      }
    },
    {
      "cell_type": "code",
      "source": [
        "q2 = 1 - (np.sum((y_test - y_pred) ** 2) / np.sum((y_test - y_test.mean()) ** 2))\n",
        "print(f\"Q^2 on the test set: {q2}\")"
      ],
      "metadata": {
        "id": "mQQw_hHq4uza"
      },
      "execution_count": null,
      "outputs": []
    },
    {
      "cell_type": "markdown",
      "source": [
        "## Q2F3"
      ],
      "metadata": {
        "id": "96C7EYshM4Zd"
      }
    },
    {
      "cell_type": "code",
      "source": [
        "def q2f3(y_true, y_pred, num_features): # Add num_features as an argument\n",
        "  \"\"\"\n",
        "  Calculates the Q^2F3 metric for model performance.\n",
        "\n",
        "  Args:\n",
        "    y_true: Array-like, true values.\n",
        "    y_pred: Array-like, predicted values.\n",
        "    num_features: The number of features used to train the model.\n",
        "\n",
        "  Returns:\n",
        "    float: Q^2F3 value.\n",
        "  \"\"\"\n",
        "  ss_res = np.sum((y_true - y_pred)**2)\n",
        "  ss_tot = np.sum((y_true - np.mean(y_true))**2)\n",
        "  r2 = 1 - (ss_res / ss_tot)\n",
        "\n",
        "  # For tree-based models, you might consider using a different\n",
        "  # metric or adapting the formula. For example, you could\n",
        "  # consider the number of features instead of coefficients.\n",
        "  # Here's an example of how you might adapt the formula:\n",
        "\n",
        "  q2f3 = 1 - (ss_res / ss_tot) * ((len(y_true) - 1) / (len(y_true) - num_features - 1)) # Use num_features\n",
        "\n",
        "  return q2f3\n",
        "\n",
        "# Assuming you have y_test and y_pred defined (as in your provided code)\n",
        "# Replace 9 with the actual number of features used in your model\n",
        "q2f3_value = q2f3(y_test, y_pred, 9)\n",
        "print(f\"Q^2F3 on the test set: {q2f3_value:.3f}\")"
      ],
      "metadata": {
        "id": "VbdFh9C340A3"
      },
      "execution_count": null,
      "outputs": []
    },
    {
      "cell_type": "markdown",
      "source": [
        "## CCC"
      ],
      "metadata": {
        "id": "R8qHTX_CM_Nb"
      }
    },
    {
      "cell_type": "code",
      "source": [
        "from sklearn.metrics import mean_squared_error, mean_absolute_error\n",
        "\n",
        "def ccc(y_true, y_pred):\n",
        "  \"\"\"\n",
        "  Calculates Lin's Concordance Correlation Coefficient (CCC).\n",
        "\n",
        "  Args:\n",
        "    y_true: Array-like, true values.\n",
        "    y_pred: Array-like, predicted values.\n",
        "\n",
        "  Returns:\n",
        "    float: CCC value.\n",
        "  \"\"\"\n",
        "  mean_true = np.mean(y_true)\n",
        "  mean_pred = np.mean(y_pred)\n",
        "\n",
        "  var_true = np.var(y_true)\n",
        "  var_pred = np.var(y_pred)\n",
        "\n",
        "  cov = np.cov(y_true, y_pred, bias=True)[0][1]\n",
        "\n",
        "  ccc = (2 * cov) / (var_true + var_pred + (mean_true - mean_pred) ** 2)\n",
        "\n",
        "  return ccc\n",
        "\n",
        "# Assuming you have y_test and y_pred defined\n",
        "ccc_value = ccc(y_test, y_pred)\n",
        "print(f\"CCC on the test set: {ccc_value:.3f}\")"
      ],
      "metadata": {
        "id": "QVnTtf-E45Yf"
      },
      "execution_count": null,
      "outputs": []
    },
    {
      "cell_type": "markdown",
      "source": [
        "## Q2LMO"
      ],
      "metadata": {
        "id": "piVC1ef0NDao"
      }
    },
    {
      "cell_type": "code",
      "source": [
        "from sklearn.model_selection import KFold\n",
        "\n",
        "def q2lmo(model, X, y, k=5):\n",
        "  \"\"\"\n",
        "  Calculates the Leave-Many-Out (LMO) Q^2 for a model using k-fold CV.\n",
        "\n",
        "  Args:\n",
        "    model: A scikit-learn compatible model object.\n",
        "    X: Array-like, feature matrix.\n",
        "    y: Array-like, target variable.\n",
        "    k: The number of folds to use in cross-validation.\n",
        "\n",
        "  Returns:\n",
        "    float: Q^2LMO value.\n",
        "  \"\"\"\n",
        "  kf = KFold(n_splits=k)\n",
        "  y_pred = np.zeros_like(y)\n",
        "\n",
        "  for train_index, test_index in kf.split(X):\n",
        "    X_train, X_test = X[train_index], X[test_index]\n",
        "    y_train, y_test = y.iloc[train_index], y.iloc[test_index]\n",
        "\n",
        "    model.fit(X_train, y_train)\n",
        "    y_pred[test_index] = model.predict(X_test)\n",
        "\n",
        "  ss_res = np.sum((y - y_pred)**2)\n",
        "  ss_tot = np.sum((y - np.mean(y))**2)\n",
        "  q2 = 1 - (ss_res / ss_tot)\n",
        "\n",
        "  return q2"
      ],
      "metadata": {
        "id": "fTsIKOTQ4-Xx"
      },
      "execution_count": null,
      "outputs": []
    },
    {
      "cell_type": "markdown",
      "source": [
        "## Y-scrambling"
      ],
      "metadata": {
        "id": "JgMzSzdZNJRJ"
      }
    },
    {
      "cell_type": "code",
      "source": [
        "import numpy as np\n",
        "import pandas as pd\n",
        "from sklearn.model_selection import train_test_split\n",
        "from sklearn.ensemble import GradientBoostingRegressor\n",
        "from sklearn.metrics import r2_score, mean_squared_error\n",
        "import matplotlib.pyplot as plt\n",
        "\n",
        "# Specify features (X) and target (y)\n",
        "# Exclude the 'molecule_chembl_id' column, which contains strings\n",
        "X = df[['pIC50']].values  # Select only numerical features (descriptors)\n",
        "y = df.pIC50.values   # Assuming the target property is the 'pIC50' column\n",
        "\n",
        "# Split the data into training and testing sets\n",
        "X_train, X_test, y_train, y_test = train_test_split(X, y, test_size=0.2, random_state=42)\n",
        "\n",
        "# Train a model on the original data\n",
        "model = RandomForestRegressor(random_state=42, n_estimators=100)\n",
        "model.fit(X_train, y_train)\n",
        "\n",
        "# Evaluate the model on the test set\n",
        "y_pred = model.predict(X_test)\n",
        "r2_original = r2_score(y_test, y_pred)\n",
        "rmse_original = np.sqrt(mean_squared_error(y_test, y_pred))\n",
        "\n",
        "\n",
        "# Y-scrambling\n",
        "n_iterations = 100  # Number of random permutations\n",
        "r2_scrambled = []\n",
        "\n",
        "for i in range(n_iterations):\n",
        "    np.random.shuffle(y_train)  # Shuffle the target values\n",
        "    model.fit(X_train, y_train)  # Train the model with scrambled y\n",
        "    y_pred_scrambled = model.predict(X_test)\n",
        "    r2_scrambled.append(r2_score(y_test, y_pred_scrambled))\n",
        "\n",
        "# Plot the results\n",
        "plt.figure(figsize=(8, 6))\n",
        "plt.hist(r2_scrambled, bins=15, color='skyblue', edgecolor='black', alpha=0.7, label='Scrambled R^2')\n",
        "plt.axvline(r2_original, color='red', linestyle='dashed', linewidth=2, label=f'Original R^2 ({r2_original:.3f})')\n",
        "plt.xlabel('R^2 Values')\n",
        "plt.ylabel('Frequency')\n",
        "plt.title('Y-Scrambling Analysis')\n",
        "plt.legend()\n",
        "plt.show()\n",
        "\n",
        "# Statistical summary\n",
        "print(\"\\nY-Scrambling Results:\")\n",
        "print(f\"Mean R^2 (Scrambled): {np.mean(r2_scrambled):.3f}\")\n",
        "print(f\"Standard Deviation of R^2 (Scrambled): {np.std(r2_scrambled):.3f}\")"
      ],
      "metadata": {
        "id": "SDst7KwU6H1p"
      },
      "execution_count": null,
      "outputs": []
    },
    {
      "cell_type": "markdown",
      "source": [
        "## William plot"
      ],
      "metadata": {
        "id": "y6iNiAYCNT9b"
      }
    },
    {
      "cell_type": "code",
      "source": [
        "# Calculate leverage for training and test sets\n",
        "H_train = np.dot(X_train, np.linalg.inv(np.dot(X_train.T, X_train))).dot(X_train.T)\n",
        "H_test = np.dot(X_test, np.linalg.inv(np.dot(X_train.T, X_train))).dot(X_train.T)\n",
        "\n",
        "leverage_train = np.diag(H_train)\n",
        "leverage_test = np.diag(H_test)\n",
        "\n",
        "# Leverage threshold h*\n",
        "n_train, p = X_train.shape\n",
        "h_star = (3 * (p + 1)) / n_train\n",
        "\n",
        "# Plotting the Williams Plot (Leverage vs Standardized Residuals)\n",
        "plt.figure(figsize=(10, 6))\n",
        "\n",
        "# Training data plot\n",
        "#plt.scatter(leverage_train, train_residuals, color='blue', label='Training set')\n",
        "\n",
        "# Test data plot\n",
        "plt.scatter(leverage_test, test_residuals, color='red', label='Test set')\n",
        "\n",
        "# Plot horizontal lines for residual thresholds (±3 standard deviations)\n",
        "plt.axhline(y=3, color='gray', linestyle='--', label='±3 Residual Threshold')\n",
        "plt.axhline(y=-3, color='gray', linestyle='--')\n",
        "\n",
        "# Plot vertical line for leverage threshold h*\n",
        "plt.axvline(x=h_star, color='green', linestyle='--', label=f'h* = {h_star:.3f}')\n",
        "\n",
        "# Plot formatting\n",
        "plt.xlabel('Leverage (h)')\n",
        "plt.ylabel('Standardized Residuals')\n",
        "plt.title('Williams Plot (Applicability Domain)')\n",
        "plt.legend()\n",
        "plt.grid(True)\n",
        "\n",
        "# Show plot\n",
        "plt.show()\n",
        "\n",
        "# Optionally save plot\n",
        "plt.savefig('williams_plot.png', dpi=300)"
      ],
      "metadata": {
        "id": "VZiOLZoT6wxN"
      },
      "execution_count": null,
      "outputs": []
    }
  ]
}